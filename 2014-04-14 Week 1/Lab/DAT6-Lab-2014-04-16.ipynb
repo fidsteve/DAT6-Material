{
 "metadata": {
  "name": "",
  "signature": "sha256:912d23ce218b3a220fac4290faa831f9bdd11e682a4351257432b02a1968fc0d"
 },
 "nbformat": 3,
 "nbformat_minor": 0,
 "worksheets": [
  {
   "cells": [
    {
     "cell_type": "code",
     "collapsed": false,
     "input": [
      "# cd DAT6-Material\n",
      "# git pull\n",
      "# ---- or -----\n",
      "#  git clone https://github.com/fidsteve/DAT6-Material.git"
     ],
     "language": "python",
     "metadata": {},
     "outputs": []
    },
    {
     "cell_type": "code",
     "collapsed": false,
     "input": [
      "%matplotlib inline\n",
      "\n",
      "# set up variables\n",
      "RAW_DATA_FILE='itcont.txt'\n",
      "SUBSET_DATA_FILE='itcont_subset.txt'\n",
      "SUBSET_COUNT=8000\n"
     ],
     "language": "python",
     "metadata": {},
     "outputs": []
    },
    {
     "cell_type": "code",
     "collapsed": false,
     "input": [
      "num_lines = sum(1 for line in open(RAW_DATA_FILE))\n",
      "num_lines"
     ],
     "language": "python",
     "metadata": {},
     "outputs": []
    },
    {
     "cell_type": "code",
     "collapsed": false,
     "input": [
      "import numpy as np"
     ],
     "language": "python",
     "metadata": {},
     "outputs": []
    },
    {
     "cell_type": "code",
     "collapsed": false,
     "input": [
      "# create an array [0,1,2,..., num_lines]\n",
      "idx = np.arange(num_lines)"
     ],
     "language": "python",
     "metadata": {},
     "outputs": []
    },
    {
     "cell_type": "code",
     "collapsed": false,
     "input": [
      "# randomly shuffle the array\n",
      "np.random.shuffle(idx)"
     ],
     "language": "python",
     "metadata": {},
     "outputs": []
    },
    {
     "cell_type": "code",
     "collapsed": false,
     "input": [
      "# for kicks, check out the first few (5) numbers in the array\n",
      "idx[0:5]"
     ],
     "language": "python",
     "metadata": {},
     "outputs": []
    },
    {
     "cell_type": "code",
     "collapsed": false,
     "input": [
      "# create a set object using the first SUBSET_COUNT items from the shuffled arrey\n",
      "# membership in this (sub)set of index values will determine if a line from the file is extracted for later analysis\n",
      "\n",
      "idx_test_set = set(idx[:SUBSET_COUNT])"
     ],
     "language": "python",
     "metadata": {},
     "outputs": []
    },
    {
     "cell_type": "code",
     "collapsed": false,
     "input": [
      "# FOR THIS EXAMPLE: the random subset will be extracted without loading the entire dataset into memory\n",
      "\n",
      "import sys\n",
      "\n",
      "# set our index counter to zero\n",
      "idx_count = 0\n",
      "output_count = 0\n",
      "\n",
      "# open file for writing, and the file for reading\n",
      "with open(SUBSET_DATA_FILE,\"w\") as output_file :\n",
      "    with open(RAW_DATA_FILE,\"r\") as input_file:\n",
      "        # prime the variable with the first line from the file\n",
      "        next_line = input_file.readline()\n",
      "        \n",
      "        # if the line read from the file is empty, the End Of File has been reached\n",
      "        while next_line != '' :\n",
      "            # test to see if the current line is in the previously defined set of line numbers (indexes) to extract\n",
      "            if idx_count in idx_test_set :\n",
      "                output_file.write(next_line)   \n",
      "                output_count += 1\n",
      "                if output_count % 1000 == 0 :\n",
      "                    sys.stdout.write('.')\n",
      "            next_line = input_file.readline()\n",
      "            idx_count += 1\n",
      "        print\n",
      "        \n",
      "num_lines_subset = sum(1 for line in open(SUBSET_DATA_FILE))\n",
      "num_lines_subset"
     ],
     "language": "python",
     "metadata": {},
     "outputs": []
    },
    {
     "cell_type": "code",
     "collapsed": false,
     "input": [
      "import pandas as pd\n",
      "\n",
      "file_fields = ['Filer Identification Number',\n",
      "'Amendment Indicator',\n",
      "'Report Type',\n",
      "'Primary-General Indicator',\n",
      "'Microfilm Location (YYOORRRFFFF)',\n",
      "'Transaction Type',\n",
      "'Entity Type',\n",
      "'Contributor/Lender/Transfer Name',\n",
      "'City/Town',\n",
      "'State',\n",
      "'Zip Code',\n",
      "'Employer',\n",
      "'Occupation',\n",
      "'Transaction Date(MMDDYYYY)',\n",
      "'Transaction Amount',\n",
      "'Other Identification Number',\n",
      "'Transaction ID',\n",
      "'File Number / Report ID',\n",
      "'Memo Code',\n",
      "'Memo Text',\n",
      "'FEC Record Number']\n",
      "\n",
      "dataset = pd.read_table(RAW_DATA_FILE, sep='|', header=None, names=file_fields, usecols=[9])"
     ],
     "language": "python",
     "metadata": {},
     "outputs": []
    },
    {
     "cell_type": "code",
     "collapsed": false,
     "input": [
      "dataset[0:3]"
     ],
     "language": "python",
     "metadata": {},
     "outputs": []
    },
    {
     "cell_type": "code",
     "collapsed": false,
     "input": [
      "\n",
      "state_count = dataset.groupby('State').count()\n",
      "state_count[0:5]"
     ],
     "language": "python",
     "metadata": {},
     "outputs": []
    },
    {
     "cell_type": "code",
     "collapsed": false,
     "input": [
      "sorted_state_count=state_count.sort_index(by='State', ascending=True)['State']\n",
      "\n",
      "sorted_state_count.plot(kind='barh', stacked=False, alpha=0.5)"
     ],
     "language": "python",
     "metadata": {},
     "outputs": []
    },
    {
     "cell_type": "code",
     "collapsed": false,
     "input": [
      "import matplotlib.pyplot as plt\n",
      "import matplotlib.ticker as plticker\n",
      "\n",
      "def plot_bar_chart(counts_dict) :\n",
      "    fig = plt.figure(facecolor='white',dpi=72)\n",
      "    fig.set_size_inches(20,20)\n",
      "    axes = plt.axes(frameon=False)\n",
      "\n",
      "    # this locator puts ticks at regular intervals\n",
      "    loc = plticker.MultipleLocator(base=1.0) \n",
      "    axes.xaxis.set_major_locator(loc)\n",
      "\n",
      "    # plot the bars\n",
      "    #axes.bar(range(len(counts_dict)), np.asarray(counts_dict)[:,1].astype(float), align=\"center\", width=0.5, alpha=0.5)\n",
      "    axes.set_xticks(range(len(counts_dict)))\n",
      "    axes.set_xticklabels(counts_dict.index)\n",
      "    \n",
      "    counts_dict.plot(kind='bar', ax=axes, stacked=False, alpha=0.5)\n",
      "\n",
      "    axes.set_title(\"Donation Count by State\")\n",
      "\n",
      "plot_bar_chart(sorted_state_count)"
     ],
     "language": "python",
     "metadata": {},
     "outputs": []
    }
   ],
   "metadata": {}
  }
 ]
}