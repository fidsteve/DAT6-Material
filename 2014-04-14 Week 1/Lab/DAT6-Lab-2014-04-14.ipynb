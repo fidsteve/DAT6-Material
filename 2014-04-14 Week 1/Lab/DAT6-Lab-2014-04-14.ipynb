{
 "metadata": {
  "name": "",
  "signature": "sha256:7a6537b2dee92100e6cb455a157d67dd483732a442ba217f9fd0231b19377741"
 },
 "nbformat": 3,
 "nbformat_minor": 0,
 "worksheets": [
  {
   "cells": [
    {
     "cell_type": "code",
     "collapsed": false,
     "input": [
      "%pwd\n",
      "%ls"
     ],
     "language": "python",
     "metadata": {},
     "outputs": [
      {
       "output_type": "stream",
       "stream": "stdout",
       "text": [
        "DAT6-Lab-2014-04-14--16.ipynb  \u001b[34mPEP_2013_PEPANNRES\u001b[m\u001b[m/            indiv14.zip                    itcont_subset.txt\r\n",
        "DAT6-Lab-2014-04-14.ipynb      PEP_2013_PEPANNRES.zip         itcont.txt                     itcont_subset.txt-1\r\n"
       ]
      }
     ],
     "prompt_number": 1
    },
    {
     "cell_type": "code",
     "collapsed": false,
     "input": [
      "%matplotlib inline\n",
      "\n",
      "# set up variables\n",
      "RAW_DATA_FILE='itcont.txt'\n",
      "SUBSET_DATA_FILE='itcont_subset.txt'\n",
      "SUBSET_COUNT=8000"
     ],
     "language": "python",
     "metadata": {},
     "outputs": [],
     "prompt_number": 2
    },
    {
     "cell_type": "code",
     "collapsed": false,
     "input": [
      "num_lines = sum(1 for line in open(RAW_DATA_FILE))\n",
      "num_lines"
     ],
     "language": "python",
     "metadata": {},
     "outputs": [
      {
       "metadata": {},
       "output_type": "pyout",
       "prompt_number": 3,
       "text": [
        "883835"
       ]
      }
     ],
     "prompt_number": 3
    },
    {
     "cell_type": "code",
     "collapsed": false,
     "input": [
      "import numpy as np"
     ],
     "language": "python",
     "metadata": {},
     "outputs": [],
     "prompt_number": 4
    },
    {
     "cell_type": "code",
     "collapsed": false,
     "input": [
      "# create an array [0,1,2,..., num_lines]\n",
      "idx = np.arange(num_lines)"
     ],
     "language": "python",
     "metadata": {},
     "outputs": [],
     "prompt_number": 5
    },
    {
     "cell_type": "code",
     "collapsed": false,
     "input": [
      "# randomly shuffle the array\n",
      "np.random.shuffle(idx)"
     ],
     "language": "python",
     "metadata": {},
     "outputs": [],
     "prompt_number": 6
    },
    {
     "cell_type": "code",
     "collapsed": false,
     "input": [
      "# for kicks, check out the first few (5) numbers in the array\n",
      "idx[0:5]"
     ],
     "language": "python",
     "metadata": {},
     "outputs": [
      {
       "metadata": {},
       "output_type": "pyout",
       "prompt_number": 7,
       "text": [
        "array([310098, 296999, 337321, 355554, 259932])"
       ]
      }
     ],
     "prompt_number": 7
    },
    {
     "cell_type": "code",
     "collapsed": false,
     "input": [
      "# create a set object using the first SUBSET_COUNT items from the shuffled arrey\n",
      "# membership in this (sub)set of index values will determine if a line from the file is extracted for later analysis\n",
      "\n",
      "idx_test_set = set(idx[:SUBSET_COUNT])"
     ],
     "language": "python",
     "metadata": {},
     "outputs": [],
     "prompt_number": 8
    },
    {
     "cell_type": "code",
     "collapsed": false,
     "input": [
      "# FOR THIS EXAMPLE: the random subset will be extracted without loading the entire dataset into memory\n",
      "\n",
      "import sys\n",
      "\n",
      "# set our index counter to zero\n",
      "idx_count = 0\n",
      "output_count = 0\n",
      "\n",
      "# open file for writing, and the file for reading\n",
      "with open(SUBSET_DATA_FILE,\"w\") as output_file :\n",
      "    with open(RAW_DATA_FILE,\"r\") as input_file:\n",
      "        # prime the variable with the first line from the file\n",
      "        next_line = input_file.readline()\n",
      "        \n",
      "        # if the line read from the file is empty, the End Of File has been reached\n",
      "        while next_line != '' :\n",
      "            # test to see if the current line is in the previously defined set of line numbers (indexes) to extract\n",
      "            if idx_count in idx_test_set :\n",
      "                output_file.write(next_line)   \n",
      "                output_count += 1\n",
      "                if output_count % 1000 == 0 :\n",
      "                    sys.stdout.write('.')\n",
      "            next_line = input_file.readline()\n",
      "            idx_count += 1\n",
      "        print\n",
      "        \n"
     ],
     "language": "python",
     "metadata": {},
     "outputs": [
      {
       "output_type": "stream",
       "stream": "stdout",
       "text": [
        ".."
       ]
      },
      {
       "output_type": "stream",
       "stream": "stdout",
       "text": [
        ".."
       ]
      },
      {
       "output_type": "stream",
       "stream": "stdout",
       "text": [
        ".."
       ]
      },
      {
       "output_type": "stream",
       "stream": "stdout",
       "text": [
        ".."
       ]
      },
      {
       "output_type": "stream",
       "stream": "stdout",
       "text": [
        "\n"
       ]
      }
     ],
     "prompt_number": 9
    },
    {
     "cell_type": "code",
     "collapsed": false,
     "input": [
      "num_lines_subset = sum(1 for line in open(SUBSET_DATA_FILE))\n",
      "num_lines_subset"
     ],
     "language": "python",
     "metadata": {},
     "outputs": [
      {
       "metadata": {},
       "output_type": "pyout",
       "prompt_number": 10,
       "text": [
        "8000"
       ]
      }
     ],
     "prompt_number": 10
    },
    {
     "cell_type": "code",
     "collapsed": false,
     "input": [
      "ndtype=[('Filer Identification Number',(str,9)),\n",
      "('Amendment Indicator',(str,1)),\n",
      "('Report Type',(str,3)),\n",
      "('Primary-General Indicator',(str,5)),\n",
      "('Microfilm Location (YYOORRRFFFF) ',(str,11)),\n",
      "('Transaction Type',(str,3)),\n",
      "('Entity Type',(str,3)),\n",
      "('Contributor/Lender/Transfer Name',(str,200)),\n",
      "('City/Town',(str,30)),\n",
      "('State',(str,2)),\n",
      "('Zip Code',(str,9)),\n",
      "('Employer',(str,38)),\n",
      "('Occupation',(str,38)),\n",
      "('Transaction Date(MMDDYYYY)',int),\n",
      "('Transaction Amount',float),\n",
      "('Other Identification Number',(str,9)),\n",
      "('Transaction ID',(str,32)),\n",
      "('File Number / Report ID',float),\n",
      "('Memo Code',(str,1)),\n",
      "('Memo Text',(str,100)),\n",
      "('FEC Record Number',float),]\n",
      "\n",
      "\n",
      "dataset = np.genfromtxt(SUBSET_DATA_FILE,\n",
      "                  delimiter='|', invalid_raise=False,\n",
      "                 # usecols=tuple(np.array([4, 6, 7, 8, 9, 10, 11, 12, 13, 14, 15,])-1),\n",
      "                  dtype=ndtype)"
     ],
     "language": "python",
     "metadata": {},
     "outputs": [
      {
       "output_type": "stream",
       "stream": "stderr",
       "text": [
        "/Users/dstevens/anaconda/lib/python2.7/site-packages/numpy/lib/npyio.py:1657: ConversionWarning: Some errors were detected !\n",
        "    Line #752 (got 12 columns instead of 21)\n",
        "    Line #5908 (got 12 columns instead of 21)\n",
        "    Line #5909 (got 12 columns instead of 21)\n",
        "  warnings.warn(errmsg, ConversionWarning)\n"
       ]
      }
     ],
     "prompt_number": 11
    },
    {
     "cell_type": "code",
     "collapsed": false,
     "input": [
      "dataset['State'][1:5]"
     ],
     "language": "python",
     "metadata": {},
     "outputs": [
      {
       "metadata": {},
       "output_type": "pyout",
       "prompt_number": 12,
       "text": [
        "array(['VA', 'OH', 'AK', 'MA'], \n",
        "      dtype='|S2')"
       ]
      }
     ],
     "prompt_number": 12
    },
    {
     "cell_type": "code",
     "collapsed": false,
     "input": [
      "from collections import defaultdict\n",
      "state_count={}\n",
      "\n",
      "def default_value () :\n",
      "    return 0\n",
      "\n",
      "state_count=defaultdict(default_value,state_count)\n",
      "\n",
      "# alternately:\n",
      "#state_count=defaultdict(lambda:0,state_count)\n",
      "\n",
      "for entry in dataset['State'] :\n",
      "    state_count[entry] = state_count[entry] + 1"
     ],
     "language": "python",
     "metadata": {},
     "outputs": [],
     "prompt_number": 13
    },
    {
     "cell_type": "code",
     "collapsed": false,
     "input": [
      "state_count"
     ],
     "language": "python",
     "metadata": {},
     "outputs": [
      {
       "metadata": {},
       "output_type": "pyout",
       "prompt_number": 14,
       "text": [
        "defaultdict(<function default_value at 0x1086e5320>, {'': 13, 'ZZ': 4, 'WA': 174, 'DE': 23, 'DC': 265, 'WI': 88, 'WV': 68, 'HI': 60, 'FL': 433, 'WY': 19, 'NH': 41, 'NJ': 240, 'NM': 67, 'TX': 630, 'LA': 119, 'NC': 190, 'ND': 15, 'NE': 65, 'TN': 113, 'NY': 565, 'PA': 274, 'CA': 915, 'NV': 41, 'VA': 330, 'CO': 164, 'AK': 29, 'AL': 87, 'AR': 54, 'VT': 10, 'IL': 364, 'GA': 219, 'IN': 80, 'IA': 95, 'MA': 343, 'AZ': 129, 'ID': 23, 'CT': 147, 'ME': 34, 'MD': 188, 'OK': 64, 'OH': 192, 'UT': 23, 'MO': 97, 'MN': 159, 'MI': 252, 'RI': 25, 'KS': 88, 'MT': 31, 'MS': 45, 'PR': 11, 'SC': 94, 'KY': 77, 'OR': 85, 'SD': 36})"
       ]
      }
     ],
     "prompt_number": 14
    },
    {
     "cell_type": "code",
     "collapsed": false,
     "input": [
      "import operator\n",
      "# sort the dictinary using the term 1 (the count)\n",
      "sorted_state_count = sorted(state_count.iteritems(), key=operator.itemgetter(1))\n",
      "# convert the dictionary into an array and display\n",
      "np.asarray(sorted_state_count)"
     ],
     "language": "python",
     "metadata": {},
     "outputs": [
      {
       "metadata": {},
       "output_type": "pyout",
       "prompt_number": 15,
       "text": [
        "array([['ZZ', '4'],\n",
        "       ['VT', '10'],\n",
        "       ['PR', '11'],\n",
        "       ['', '13'],\n",
        "       ['ND', '15'],\n",
        "       ['WY', '19'],\n",
        "       ['DE', '23'],\n",
        "       ['ID', '23'],\n",
        "       ['UT', '23'],\n",
        "       ['RI', '25'],\n",
        "       ['AK', '29'],\n",
        "       ['MT', '31'],\n",
        "       ['ME', '34'],\n",
        "       ['SD', '36'],\n",
        "       ['NH', '41'],\n",
        "       ['NV', '41'],\n",
        "       ['MS', '45'],\n",
        "       ['AR', '54'],\n",
        "       ['HI', '60'],\n",
        "       ['OK', '64'],\n",
        "       ['NE', '65'],\n",
        "       ['NM', '67'],\n",
        "       ['WV', '68'],\n",
        "       ['KY', '77'],\n",
        "       ['IN', '80'],\n",
        "       ['OR', '85'],\n",
        "       ['AL', '87'],\n",
        "       ['WI', '88'],\n",
        "       ['KS', '88'],\n",
        "       ['SC', '94'],\n",
        "       ['IA', '95'],\n",
        "       ['MO', '97'],\n",
        "       ['TN', '113'],\n",
        "       ['LA', '119'],\n",
        "       ['AZ', '129'],\n",
        "       ['CT', '147'],\n",
        "       ['MN', '159'],\n",
        "       ['CO', '164'],\n",
        "       ['WA', '174'],\n",
        "       ['MD', '188'],\n",
        "       ['NC', '190'],\n",
        "       ['OH', '192'],\n",
        "       ['GA', '219'],\n",
        "       ['NJ', '240'],\n",
        "       ['MI', '252'],\n",
        "       ['DC', '265'],\n",
        "       ['PA', '274'],\n",
        "       ['VA', '330'],\n",
        "       ['MA', '343'],\n",
        "       ['IL', '364'],\n",
        "       ['FL', '433'],\n",
        "       ['NY', '565'],\n",
        "       ['TX', '630'],\n",
        "       ['CA', '915']], \n",
        "      dtype='|S3')"
       ]
      }
     ],
     "prompt_number": 15
    },
    {
     "cell_type": "code",
     "collapsed": false,
     "input": [
      "import matplotlib.pyplot as plt\n",
      "import matplotlib.ticker as plticker\n",
      "\n",
      "def plot_bar_chart(counts_dict) :\n",
      "    fig = plt.figure(facecolor='white',dpi=72)\n",
      "    fig.set_size_inches(20,20)\n",
      "    axes = plt.axes(frameon=False)\n",
      "\n",
      "    # this locator puts ticks at regular intervals\n",
      "    loc = plticker.MultipleLocator(base=1.0) \n",
      "    axes.xaxis.set_major_locator(loc)\n",
      "\n",
      "    # plot the bars\n",
      "    axes.bar(range(len(counts_dict)), np.asarray(counts_dict)[:,1].astype(float), align=\"center\", width=0.5, alpha=0.5)\n",
      "    axes.set_xticks(range(len(counts_dict)))\n",
      "    axes.set_xticklabels(np.asarray(counts_dict)[:,0])\n",
      "\n",
      "    axes.set_title(\"state breakdown\")\n",
      "\n",
      "plot_bar_chart(sorted_state_count)"
     ],
     "language": "python",
     "metadata": {},
     "outputs": [
      {
       "metadata": {},
       "output_type": "display_data",
       "png": "[encoded data removed]",
       "text": [
        "<matplotlib.figure.Figure at 0x108708f50>"
       ]
      }
     ],
     "prompt_number": 16
    },
    {
     "cell_type": "code",
     "collapsed": false,
     "input": [],
     "language": "python",
     "metadata": {},
     "outputs": [],
     "prompt_number": 16
    },
    {
     "cell_type": "code",
     "collapsed": false,
     "input": [],
     "language": "python",
     "metadata": {},
     "outputs": []
    }
   ],
   "metadata": {}
  }
 ]
}