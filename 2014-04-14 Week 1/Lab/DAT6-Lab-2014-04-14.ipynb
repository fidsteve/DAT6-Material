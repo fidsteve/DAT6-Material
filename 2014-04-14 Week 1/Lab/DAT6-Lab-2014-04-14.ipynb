{
 "metadata": {
  "name": "",
  "signature": "sha256:336ae369ea7d6249e60f850ee4f1ba76cef670ed140946ddad8858e290c3fcd4"
 },
 "nbformat": 3,
 "nbformat_minor": 0,
 "worksheets": [
  {
   "cells": [
    {
     "cell_type": "code",
     "collapsed": false,
     "input": [
      "%pwd\n",
      "%ls"
     ],
     "language": "python",
     "metadata": {},
     "outputs": []
    },
    {
     "cell_type": "code",
     "collapsed": false,
     "input": [
      "%matplotlib inline\n",
      "\n",
      "# set up variables\n",
      "RAW_DATA_FILE='itcont.txt'\n",
      "SUBSET_DATA_FILE='itcont_subset.txt'\n",
      "SUBSET_COUNT=8000"
     ],
     "language": "python",
     "metadata": {},
     "outputs": []
    },
    {
     "cell_type": "code",
     "collapsed": false,
     "input": [
      "num_lines = sum(1 for line in open(RAW_DATA_FILE))\n",
      "num_lines"
     ],
     "language": "python",
     "metadata": {},
     "outputs": []
    },
    {
     "cell_type": "code",
     "collapsed": false,
     "input": [
      "import numpy as np"
     ],
     "language": "python",
     "metadata": {},
     "outputs": []
    },
    {
     "cell_type": "code",
     "collapsed": false,
     "input": [
      "# create an array [0,1,2,..., num_lines]\n",
      "idx = np.arange(num_lines)"
     ],
     "language": "python",
     "metadata": {},
     "outputs": []
    },
    {
     "cell_type": "code",
     "collapsed": false,
     "input": [
      "# randomly shuffle the array\n",
      "np.random.shuffle(idx)"
     ],
     "language": "python",
     "metadata": {},
     "outputs": []
    },
    {
     "cell_type": "code",
     "collapsed": false,
     "input": [
      "# for kicks, check out the first few (5) numbers in the array\n",
      "idx[0:5]"
     ],
     "language": "python",
     "metadata": {},
     "outputs": []
    },
    {
     "cell_type": "code",
     "collapsed": false,
     "input": [
      "# create a set object using the first SUBSET_COUNT items from the shuffled arrey\n",
      "# membership in this (sub)set of index values will determine if a line from the file is extracted for later analysis\n",
      "\n",
      "idx_test_set = set(idx[:SUBSET_COUNT])"
     ],
     "language": "python",
     "metadata": {},
     "outputs": []
    },
    {
     "cell_type": "code",
     "collapsed": false,
     "input": [
      "# FOR THIS EXAMPLE: the random subset will be extracted without loading the entire dataset into memory\n",
      "\n",
      "import sys\n",
      "\n",
      "# set our index counter to zero\n",
      "idx_count = 0\n",
      "output_count = 0\n",
      "\n",
      "# open file for writing, and the file for reading\n",
      "with open(SUBSET_DATA_FILE,\"w\") as output_file :\n",
      "    with open(RAW_DATA_FILE,\"r\") as input_file:\n",
      "        # prime the variable with the first line from the file\n",
      "        next_line = input_file.readline()\n",
      "        \n",
      "        # if the line read from the file is empty, the End Of File has been reached\n",
      "        while next_line != '' :\n",
      "            # test to see if the current line is in the previously defined set of line numbers (indexes) to extract\n",
      "            if idx_count in idx_test_set :\n",
      "                output_file.write(next_line)   \n",
      "                output_count += 1\n",
      "                if output_count % 1000 == 0 :\n",
      "                    sys.stdout.write('.')\n",
      "            next_line = input_file.readline()\n",
      "            idx_count += 1\n",
      "        print\n",
      "        \n"
     ],
     "language": "python",
     "metadata": {},
     "outputs": []
    },
    {
     "cell_type": "code",
     "collapsed": false,
     "input": [
      "num_lines_subset = sum(1 for line in open(SUBSET_DATA_FILE))\n",
      "num_lines_subset"
     ],
     "language": "python",
     "metadata": {},
     "outputs": []
    },
    {
     "cell_type": "code",
     "collapsed": false,
     "input": [
      "ndtype=[('Filer Identification Number',(str,9)),\n",
      "        ('Amendment Indicator',(str,1)),\n",
      "        ('Report Type',(str,3)),\n",
      "        ('Primary-General Indicator',(str,5)),\n",
      "        ('Microfilm Location (YYOORRRFFFF) ',(str,11)),\n",
      "        ('Transaction Type',(str,3)),\n",
      "        ('Entity Type',(str,3)),\n",
      "        ('Contributor/Lender/Transfer Name',(str,200)),\n",
      "        ('City/Town',(str,30)),\n",
      "        ('State',(str,2)),\n",
      "        ('Zip Code',(str,9)),\n",
      "        ('Employer',(str,38)),\n",
      "        ('Occupation',(str,38)),\n",
      "        ('Transaction Date(MMDDYYYY)',int),\n",
      "        ('Transaction Amount',float),\n",
      "        ('Other Identification Number',(str,9)),\n",
      "        ('Transaction ID',(str,32)),\n",
      "        ('File Number / Report ID',float),\n",
      "        ('Memo Code',(str,1)),\n",
      "        ('Memo Text',(str,100)),\n",
      "        ('FEC Record Number',float),]\n",
      "\n",
      "\n",
      "dataset = np.genfromtxt(SUBSET_DATA_FILE,\n",
      "                  delimiter='|', invalid_raise=False,\n",
      "                 # usecols=tuple(np.array([4, 6, 7, 8, 9, 10, 11, 12, 13, 14, 15,])-1),\n",
      "                  dtype=ndtype)"
     ],
     "language": "python",
     "metadata": {},
     "outputs": []
    },
    {
     "cell_type": "code",
     "collapsed": false,
     "input": [
      "dataset['State'][1:5]"
     ],
     "language": "python",
     "metadata": {},
     "outputs": []
    },
    {
     "cell_type": "code",
     "collapsed": false,
     "input": [
      "from collections import defaultdict\n",
      "state_count={}\n",
      "\n",
      "def default_value () :\n",
      "    return 0\n",
      "\n",
      "state_count=defaultdict(default_value,state_count)\n",
      "\n",
      "# alternately:\n",
      "#state_count=defaultdict(lambda:0,state_count)\n",
      "\n",
      "for entry in dataset['State'] :\n",
      "    state_count[entry] = state_count[entry] + 1"
     ],
     "language": "python",
     "metadata": {},
     "outputs": []
    },
    {
     "cell_type": "code",
     "collapsed": false,
     "input": [
      "state_count"
     ],
     "language": "python",
     "metadata": {},
     "outputs": []
    },
    {
     "cell_type": "code",
     "collapsed": false,
     "input": [
      "import operator\n",
      "# sort the dictinary using the term 1 (the count)\n",
      "sorted_state_count = sorted(state_count.iteritems(), key=operator.itemgetter(1))\n",
      "# convert the dictionary into an array and display\n",
      "np.asarray(sorted_state_count)"
     ],
     "language": "python",
     "metadata": {},
     "outputs": []
    },
    {
     "cell_type": "code",
     "collapsed": false,
     "input": [
      "import matplotlib.pyplot as plt\n",
      "import matplotlib.ticker as plticker\n",
      "\n",
      "def plot_bar_chart(counts_dict) :\n",
      "    fig = plt.figure(facecolor='white',dpi=72)\n",
      "    fig.set_size_inches(20,20)\n",
      "    axes = plt.axes(frameon=False)\n",
      "\n",
      "    # this locator puts ticks at regular intervals\n",
      "    loc = plticker.MultipleLocator(base=1.0) \n",
      "    axes.xaxis.set_major_locator(loc)\n",
      "\n",
      "    # plot the bars\n",
      "    axes.bar(range(len(counts_dict)), np.asarray(counts_dict)[:,1].astype(float), align=\"center\", width=0.5, alpha=0.5)\n",
      "    axes.set_xticks(range(len(counts_dict)))\n",
      "    axes.set_xticklabels(np.asarray(counts_dict)[:,0])\n",
      "\n",
      "    axes.set_title(\"state breakdown\")\n",
      "\n",
      "plot_bar_chart(sorted_state_count)"
     ],
     "language": "python",
     "metadata": {},
     "outputs": []
    },
    {
     "cell_type": "code",
     "collapsed": false,
     "input": [],
     "language": "python",
     "metadata": {},
     "outputs": []
    },
    {
     "cell_type": "code",
     "collapsed": false,
     "input": [],
     "language": "python",
     "metadata": {},
     "outputs": []
    }
   ],
   "metadata": {}
  }
 ]
}